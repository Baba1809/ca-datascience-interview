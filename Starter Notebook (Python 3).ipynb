{
 "cells": [
  {
   "cell_type": "markdown",
   "metadata": {},
   "source": [
    "# CA Data Science Takehome Problem"
   ]
  },
  {
   "cell_type": "markdown",
   "metadata": {},
   "source": [
    "### For this problem, you are provided a data set recording various details about US domestic flights. The data is for all domestic flights during August in three consecutive years. Please explore the data however you prefer, and try to identify anything interesting, such as correlations, patterns, or interesting outliers. When you are done, prepare a write-up or annotate your notebook to show what you discovered. Be prepared to present your findings to the team if invited to continue to an on-site interview.\n",
    "\n",
    "### This is an open-ended problem, which we expect will take approximately three hours to complete. This starter notebook will load the airline data into a data frame for you to use, but feel free to use any additional libraries or outside data that you would like. The accompanying \"Column_Descriptions.csv\" file explains what each of the columns in the data frame means."
   ]
  },
  {
   "cell_type": "code",
   "execution_count": null,
   "metadata": {},
   "outputs": [],
   "source": [
    "%matplotlib inline\n",
    "\n",
    "import pandas as pd\n",
    "import numpy as np\n",
    "\n",
    "import requests\n",
    "\n",
    "import seaborn as sns\n",
    "import matplotlib.pyplot as plt\n",
    "\n",
    "import xml.etree.ElementTree as ET\n",
    "\n",
    "pd.set_option('display.max_columns', None)"
   ]
  },
  {
   "cell_type": "markdown",
   "metadata": {},
   "source": [
    "## Loading the CSVs"
   ]
  },
  {
   "cell_type": "code",
   "execution_count": null,
   "metadata": {},
   "outputs": [],
   "source": [
    "r = requests.get('http://ca-data-science-interview.s3.amazonaws.com')\n",
    "xml = r.text\n",
    "\n",
    "csvs = []\n",
    "root = ET.fromstring(xml)\n",
    "    \n",
    "for content in root.findall('{http://s3.amazonaws.com/doc/2006-03-01/}Contents'):\n",
    "    key = content.find('{http://s3.amazonaws.com/doc/2006-03-01/}Key').text\n",
    "    csvs.append(key)\n",
    "    \n",
    "for csv in csvs:\n",
    "    csv_file = 'http://ca-data-science-interview.s3.amazonaws.com/' + csv\n",
    "    print(\"-- fetching %s\" % csv_file)\n",
    "    r = requests.get(csv_file, stream = True)\n",
    "    with open(csv, \"wb\") as f:\n",
    "        for chunk in r.iter_content(chunk_size = 1024):\n",
    "            if chunk:\n",
    "                f.write(chunk)\n",
    "\n",
    "    \n",
    "df = pd.concat([pd.read_csv(csv, low_memory=False) for csv in csvs])\n",
    "df = df.drop(\"Unnamed: 37\", axis = 1) # All of the lines in the CSVs have an extra comma at the end that gets interpreted as an unnamed column.\n",
    "df.head()"
   ]
  },
  {
   "cell_type": "markdown",
   "metadata": {},
   "source": [
    "## A basic view of the data"
   ]
  },
  {
   "cell_type": "code",
   "execution_count": null,
   "metadata": {},
   "outputs": [],
   "source": [
    "# Plot of Departure Time versus Arrival Time (24-Hour Clock)\n",
    "\n",
    "sns.set(style=\"white\", color_codes=True)\n",
    "grid = sns.JointGrid(x='DEP_TIME', y='ARR_TIME', data=df, space=0, size=10, ratio=50)\n",
    "grid.plot_joint(plt.scatter, color=\"g\")"
   ]
  },
  {
   "cell_type": "code",
   "execution_count": null,
   "metadata": {
    "collapsed": true
   },
   "outputs": [],
   "source": []
  }
 ],
 "metadata": {
  "kernelspec": {
   "display_name": "Python 3",
   "language": "python",
   "name": "python3"
  },
  "language_info": {
   "codemirror_mode": {
    "name": "ipython",
    "version": 3
   },
   "file_extension": ".py",
   "mimetype": "text/x-python",
   "name": "python",
   "nbconvert_exporter": "python",
   "pygments_lexer": "ipython3",
   "version": "3.6.5"
  }
 },
 "nbformat": 4,
 "nbformat_minor": 2
}
