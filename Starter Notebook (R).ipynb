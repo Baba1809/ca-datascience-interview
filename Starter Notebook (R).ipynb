{
 "cells": [
  {
   "cell_type": "markdown",
   "metadata": {},
   "source": [
    "# CA Data Science Takehome Problem"
   ]
  },
  {
   "cell_type": "markdown",
   "metadata": {},
   "source": [
    "### For this problem, you are provided a data set recording various details about US domestic flights. Please explore the data however you prefer, and try to identify anything interesting, such as correlations, patterns, or strange outliers. When you are done, prepare a write-up or annotate your notebook to show what you discovered. Be prepared to present your findings to the team if invited to continue to an on-site interview.\n",
    "\n",
    "### This is an open-ended problem, which we expect will take approximately three hours to complete. This starter notebook has loaded the airline data into a data frame for you to use, but feel free to use any additional libraries or outside data that you would like. The accompanying \"Column_Descriptions.csv\" file explains what each of the columns in the data frame means."
   ]
  },
  {
   "cell_type": "code",
   "execution_count": null,
   "metadata": {},
   "outputs": [],
   "source": [
    "library(httr)"
   ]
  },
  {
   "cell_type": "markdown",
   "metadata": {},
   "source": [
    "## Loading the CSVs"
   ]
  },
  {
   "cell_type": "code",
   "execution_count": null,
   "metadata": {},
   "outputs": [],
   "source": [
    "csvs <- c(\"701878033_T_ONTIME_2015_8.csv\", \"701878033_T_ONTIME_2016_8.csv\", \"701878033_T_ONTIME_2017_8.csv\")\n",
    "for (csv in csvs) {\n",
    "    print(paste(\"Starting download of\", csv))\n",
    "    writeBin(\n",
    "        content(\n",
    "            GET(paste0(\"http://ca-data-science-interview.s3.amazonaws.com/\", csv)), \n",
    "            \"raw\"\n",
    "        ), \n",
    "        csv\n",
    "    )\n",
    "    print(paste(\"Finished download of\", csv))\n",
    "}"
   ]
  },
  {
   "cell_type": "code",
   "execution_count": null,
   "metadata": {},
   "outputs": [],
   "source": [
    "files <- list.files(path = \"./\", pattern = \"8\\\\.csv$\")\n",
    "df <- read.csv(files[1])\n",
    "for (f in files[-1]) {\n",
    "    df <- rbind(df, read.csv(f))\n",
    "}\n",
    "\n",
    "df <- df[, names(df) != \"X\"] # All of the lines in the CSVs have an extra comma at the end that gets interpreted as an unnamed column.\n",
    "head(df, 5)"
   ]
  },
  {
   "cell_type": "markdown",
   "metadata": {},
   "source": [
    "## Some basic views of the data"
   ]
  },
  {
   "cell_type": "code",
   "execution_count": null,
   "metadata": {},
   "outputs": [],
   "source": [
    "# Number of flights by day of the week\n",
    "\n",
    "counts <- table(df$DAY_OF_WEEK)\n",
    "barplot(\n",
    "    counts,\n",
    "    main = \"Number of flights by day of the week\",\n",
    "    xlab = \"Day of the week\"\n",
    ")"
   ]
  },
  {
   "cell_type": "code",
   "execution_count": null,
   "metadata": {},
   "outputs": [],
   "source": [
    "# Total number of flights by airport\n",
    "\n",
    "dest_counts <- as.data.frame(table(df$DEST))\n",
    "orig_counts <- as.data.frame(table(df$ORIGIN))\n",
    "total_counts <- merge(\n",
    "    x = dest_counts,\n",
    "    y = orig_counts,\n",
    "    by.x = \"Var1\",\n",
    "    by.y = \"Var1\"\n",
    ")\n",
    "names(total_counts) <- c(\"airport\", \"dest_count\", \"orig_count\")\n",
    "total_counts$total_count <- total_counts$dest_count + total_counts$orig_count\n",
    "total_counts <- total_counts[order(total_counts$total_count, decreasing = T),]\n",
    "\n",
    "barplot(\n",
    "    height = total_counts$dest_count[1:10],\n",
    "    names.arg = total_counts$airport[1:10]\n",
    ")\n",
    "barplot(\n",
    "    height = total_counts$orig_count[1:10],\n",
    "    names.arg = total_counts$airport[1:10]\n",
    ")\n",
    "barplot(\n",
    "    height = total_counts$total_count[1:10],\n",
    "    names.arg = total_counts$airport[1:10]\n",
    ")"
   ]
  },
  {
   "cell_type": "code",
   "execution_count": null,
   "metadata": {},
   "outputs": [],
   "source": []
  }
 ],
 "metadata": {
  "kernelspec": {
   "display_name": "R",
   "language": "R",
   "name": "ir"
  },
  "language_info": {
   "codemirror_mode": "r",
   "file_extension": ".r",
   "mimetype": "text/x-r-source",
   "name": "R",
   "pygments_lexer": "r",
   "version": "3.4.0"
  }
 },
 "nbformat": 4,
 "nbformat_minor": 2
}
