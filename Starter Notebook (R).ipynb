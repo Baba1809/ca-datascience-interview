{
 "cells": [
  {
   "cell_type": "markdown",
   "metadata": {},
   "source": [
    "# CA Data Science Takehome Problem"
   ]
  },
  {
   "cell_type": "markdown",
   "metadata": {},
   "source": [
    "### For this problem, you are provided a data set recording various details about US domestic flights. The data is for all domestic flights during August in three consecutive years. Please explore the data however you prefer, and try to identify anything interesting, such as correlations, patterns, or interesting outliers. When you are done, prepare a write-up or annotate your notebook to show what you discovered. Be prepared to present your findings to the team if invited to continue to an on-site interview.\n",
    "\n",
    "### This is an open-ended problem, which we expect will take approximately three hours to complete. This starter notebook has loaded the airline data into a data frame for you to use, but feel free to use any additional libraries or outside data that you would like. The accompanying \"Column_Descriptions.csv\" file explains what each of the columns in the data frame means."
   ]
  },
  {
   "cell_type": "code",
   "execution_count": null,
   "metadata": {},
   "outputs": [],
   "source": [
    "library(httr)"
   ]
  },
  {
   "cell_type": "markdown",
   "metadata": {},
   "source": [
    "## Loading the CSVs"
   ]
  },
  {
   "cell_type": "code",
   "execution_count": null,
   "metadata": {},
   "outputs": [],
   "source": [
    "csvs <- c(\"701878033_T_ONTIME_2015_8.csv\", \"701878033_T_ONTIME_2016_8.csv\", \"701878033_T_ONTIME_2017_8.csv\")\n",
    "for (csv in csvs) {\n",
    "    print(paste(\"-- fetching\", csv))\n",
    "    writeBin(\n",
    "        content(\n",
    "            GET(paste0(\"http://ca-data-science-interview.s3.amazonaws.com/\", csv)), \n",
    "            \"raw\"\n",
    "        ), \n",
    "        csv\n",
    "    )\n",
    "}"
   ]
  },
  {
   "cell_type": "code",
   "execution_count": null,
   "metadata": {},
   "outputs": [],
   "source": [
    "files <- list.files(path = \"./\", pattern = \"8\\\\.csv$\")\n",
    "df <- read.csv(files[1])\n",
    "for (f in files[-1]) {\n",
    "    df <- rbind(df, read.csv(f))\n",
    "}\n",
    "\n",
    "df <- df[, names(df) != \"X\"] # All of the lines in the CSVs have an extra comma at the end that gets interpreted as an unnamed column.\n",
    "head(df, 5)"
   ]
  },
  {
   "cell_type": "markdown",
   "metadata": {},
   "source": [
    "## A basic view of the data"
   ]
  },
  {
   "cell_type": "code",
   "execution_count": null,
   "metadata": {},
   "outputs": [],
   "source": [
    "plot(\n",
    "    df$DEP_TIME,\n",
    "    df$ARR_TIME,\n",
    "    pch=16,\n",
    "    cex=0.6\n",
    ")"
   ]
  },
  {
   "cell_type": "code",
   "execution_count": null,
   "metadata": {},
   "outputs": [],
   "source": []
  }
 ],
 "metadata": {
  "kernelspec": {
   "display_name": "R",
   "language": "R",
   "name": "ir"
  },
  "language_info": {
   "codemirror_mode": "r",
   "file_extension": ".r",
   "mimetype": "text/x-r-source",
   "name": "R",
   "pygments_lexer": "r",
   "version": "3.4.0"
  }
 },
 "nbformat": 4,
 "nbformat_minor": 2
}
